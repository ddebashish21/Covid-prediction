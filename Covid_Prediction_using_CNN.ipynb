{
  "nbformat": 4,
  "nbformat_minor": 0,
  "metadata": {
    "colab": {
      "provenance": [],
      "authorship_tag": "ABX9TyPIVx2RUMsZt8O09yMsqPn9",
      "include_colab_link": true
    },
    "kernelspec": {
      "name": "python3",
      "display_name": "Python 3"
    },
    "language_info": {
      "name": "python"
    }
  },
  "cells": [
    {
      "cell_type": "markdown",
      "metadata": {
        "id": "view-in-github",
        "colab_type": "text"
      },
      "source": [
        "<a href=\"https://colab.research.google.com/github/ddebashish21/Covid-prediction/blob/main/Covid_Prediction_using_CNN.ipynb\" target=\"_parent\"><img src=\"https://colab.research.google.com/assets/colab-badge.svg\" alt=\"Open In Colab\"/></a>"
      ]
    },
    {
      "cell_type": "markdown",
      "source": [
        "# **Image Classification for the prediction of Covid-19 using lung's X-ray**"
      ],
      "metadata": {
        "id": "1aZWIxRijZ6U"
      }
    },
    {
      "cell_type": "markdown",
      "source": [
        "The dataset contains images of the lung's X-ray of normal people and the lung's X-ray of Covid-19 patients. The aim of the project is to train a model to distinguise the covid-19 patients from the normal patients using the X-ray images."
      ],
      "metadata": {
        "id": "_2WJ_jGfYKzX"
      }
    },
    {
      "cell_type": "code",
      "source": [
        "# Importing all the essential libraries\n",
        "from tensorflow.keras.preprocessing.image import ImageDataGenerator\n",
        "from keras.models import Sequential\n",
        "from keras.layers import Conv2D, MaxPooling2D, Flatten, Dense\n",
        "import cv2"
      ],
      "metadata": {
        "id": "6dg96nBQf-9F"
      },
      "execution_count": 1,
      "outputs": []
    },
    {
      "cell_type": "code",
      "source": [
        "# Creating the directories for storing image datas\n",
        "!mkdir covid_dataset"
      ],
      "metadata": {
        "id": "O6pWOIZ8oHNY"
      },
      "execution_count": 4,
      "outputs": []
    },
    {
      "cell_type": "code",
      "source": [
        "mkdir covid_dataset/train"
      ],
      "metadata": {
        "id": "nKW6vRcRkds3"
      },
      "execution_count": 5,
      "outputs": []
    },
    {
      "cell_type": "code",
      "source": [
        "mkdir covid_dataset/test"
      ],
      "metadata": {
        "id": "7k7c0IF6H7kY"
      },
      "execution_count": 6,
      "outputs": []
    },
    {
      "cell_type": "code",
      "source": [
        "mkdir covid_dataset/train/covid"
      ],
      "metadata": {
        "id": "0DNft0peIB0N"
      },
      "execution_count": 7,
      "outputs": []
    },
    {
      "cell_type": "code",
      "source": [
        "mkdir covid_dataset/train/normal"
      ],
      "metadata": {
        "id": "0tapAXIsIUtt"
      },
      "execution_count": 8,
      "outputs": []
    },
    {
      "cell_type": "code",
      "source": [
        "mkdir covid_dataset/test/covid"
      ],
      "metadata": {
        "id": "wrZB0zQpIX1g"
      },
      "execution_count": 9,
      "outputs": []
    },
    {
      "cell_type": "code",
      "source": [
        "mkdir covid_dataset/test/normal"
      ],
      "metadata": {
        "id": "L8QxQzWSId3j"
      },
      "execution_count": 10,
      "outputs": []
    },
    {
      "cell_type": "code",
      "source": [
        "# Storing the address of training and testing datas\n",
        "ref={\"train\": \"/content/covid_dataset/train\",\n",
        "     \"test\": \"/content/covid_dataset/test\"}"
      ],
      "metadata": {
        "id": "e2W9grftJ3i9"
      },
      "execution_count": 11,
      "outputs": []
    },
    {
      "cell_type": "markdown",
      "source": [
        "**Preprocessing the image dataset for training**"
      ],
      "metadata": {
        "id": "W6czWyFiNoAD"
      }
    },
    {
      "cell_type": "code",
      "source": [
        "# Preprocessing the training data\n",
        "train_datagen = ImageDataGenerator(rescale=1./255,\n",
        "                                   shear_range=0.2,\n",
        "                                   zoom_range=0.2,\n",
        "                                   horizontal_flip=True)"
      ],
      "metadata": {
        "id": "qHO9WCKcM_-F"
      },
      "execution_count": 12,
      "outputs": []
    },
    {
      "cell_type": "code",
      "source": [
        "# Preprocessing the testing data\n",
        "test_datagen = ImageDataGenerator(rescale=1./255)"
      ],
      "metadata": {
        "id": "Gz--Qc11Ni49"
      },
      "execution_count": 13,
      "outputs": []
    },
    {
      "cell_type": "code",
      "source": [
        "training_data = train_datagen.flow_from_directory(ref[\"train\"],\n",
        "                                                 target_size=(64, 64),\n",
        "                                                 batch_size=32,\n",
        "                                                 class_mode='binary')"
      ],
      "metadata": {
        "colab": {
          "base_uri": "https://localhost:8080/"
        },
        "id": "W7ubvv6mNxkk",
        "outputId": "9258ccef-4cde-4929-ffc0-933d0af6b0fc"
      },
      "execution_count": 14,
      "outputs": [
        {
          "output_type": "stream",
          "name": "stdout",
          "text": [
            "Found 181 images belonging to 2 classes.\n"
          ]
        }
      ]
    },
    {
      "cell_type": "code",
      "source": [
        "testing_data = test_datagen.flow_from_directory(ref[\"test\"],\n",
        "                                               target_size=(64, 64),\n",
        "                                               batch_size=32,\n",
        "                                               class_mode='binary')"
      ],
      "metadata": {
        "colab": {
          "base_uri": "https://localhost:8080/"
        },
        "id": "L_2EjEmPOIgn",
        "outputId": "8260dca1-9f27-4ee7-cfbc-0f42de479141"
      },
      "execution_count": 15,
      "outputs": [
        {
          "output_type": "stream",
          "name": "stdout",
          "text": [
            "Found 46 images belonging to 2 classes.\n"
          ]
        }
      ]
    },
    {
      "cell_type": "code",
      "source": [
        "print(training_data.class_indices)\n",
        "print(testing_data.class_indices)"
      ],
      "metadata": {
        "colab": {
          "base_uri": "https://localhost:8080/"
        },
        "id": "2CKXNj92OVlj",
        "outputId": "a79a6f17-871d-4d08-927d-2814e2b29b10"
      },
      "execution_count": 16,
      "outputs": [
        {
          "output_type": "stream",
          "name": "stdout",
          "text": [
            "{'covid': 0, 'normal': 1}\n",
            "{'covid': 0, 'normal': 1}\n"
          ]
        }
      ]
    },
    {
      "cell_type": "markdown",
      "source": [],
      "metadata": {
        "id": "ombJMT63edOJ"
      }
    },
    {
      "cell_type": "code",
      "source": [
        "model=Sequential()\n",
        "model.add(Conv2D(32,(3,3),activation='relu')) # 1st Convolution layer\n",
        "model.add(MaxPooling2D(pool_size=(2,2))) # 1st Pooling layer using the maximum value\n",
        "model.add(Conv2D(16,(3,3),activation='relu')) # 2nd Convokution layer\n",
        "model.add(MaxPooling2D(pool_size=(2,2))) # 2nd Pooling layer using the maximum value\n",
        "model.add(Flatten()) # Fully-connected layer"
      ],
      "metadata": {
        "id": "CYN7nPSwTmrH"
      },
      "execution_count": 18,
      "outputs": []
    },
    {
      "cell_type": "code",
      "source": [
        "# Adding 3 hidden layers of Neural network\n",
        "model.add(Dense(units=128,activation='relu'))\n",
        "model.add(Dense(units=64,activation='relu'))\n",
        "model.add(Dense(units=1,activation='sigmoid'))"
      ],
      "metadata": {
        "id": "Rze9J-jlUvbS"
      },
      "execution_count": 19,
      "outputs": []
    },
    {
      "cell_type": "code",
      "source": [
        "# Compiling the model using accuracy metrics\n",
        "model.compile(optimizer='adam',loss='binary_crossentropy',metrics=['accuracy'])"
      ],
      "metadata": {
        "id": "ylOAXLd9U6yw"
      },
      "execution_count": 20,
      "outputs": []
    },
    {
      "cell_type": "code",
      "source": [
        "# Training the model using the training dataset and validating it using testing dataset\n",
        "model.fit(training_data,\n",
        "          steps_per_epoch=int(len(training_data)/32),\n",
        "          epochs=5,\n",
        "          validation_data=testing_data,\n",
        "          validation_steps=int(len(testing_data)/32))"
      ],
      "metadata": {
        "colab": {
          "base_uri": "https://localhost:8080/"
        },
        "id": "D8ASXRcmU_v3",
        "outputId": "0e4f9eaa-d7af-433f-9e8e-3134d6025a8a"
      },
      "execution_count": 21,
      "outputs": [
        {
          "output_type": "stream",
          "name": "stdout",
          "text": [
            "Epoch 1/5\n"
          ]
        },
        {
          "output_type": "stream",
          "name": "stderr",
          "text": [
            "/usr/local/lib/python3.10/dist-packages/keras/src/trainers/data_adapters/py_dataset_adapter.py:122: UserWarning: Your `PyDataset` class should call `super().__init__(**kwargs)` in its constructor. `**kwargs` can include `workers`, `use_multiprocessing`, `max_queue_size`. Do not pass these arguments to `fit()`, as they will be ignored.\n",
            "  self._warn_if_super_not_called()\n"
          ]
        },
        {
          "output_type": "stream",
          "name": "stdout",
          "text": [
            "\u001b[1m6/6\u001b[0m \u001b[32m━━━━━━━━━━━━━━━━━━━━\u001b[0m\u001b[37m\u001b[0m \u001b[1m11s\u001b[0m 387ms/step - accuracy: 0.5228 - loss: 0.6828 - val_accuracy: 0.9348 - val_loss: 0.6238\n",
            "Epoch 2/5\n",
            "\u001b[1m6/6\u001b[0m \u001b[32m━━━━━━━━━━━━━━━━━━━━\u001b[0m\u001b[37m\u001b[0m \u001b[1m9s\u001b[0m 349ms/step - accuracy: 0.7695 - loss: 0.6088 - val_accuracy: 0.9130 - val_loss: 0.4519\n",
            "Epoch 3/5\n",
            "\u001b[1m6/6\u001b[0m \u001b[32m━━━━━━━━━━━━━━━━━━━━\u001b[0m\u001b[37m\u001b[0m \u001b[1m6s\u001b[0m 210ms/step - accuracy: 0.8236 - loss: 0.4509 - val_accuracy: 0.8043 - val_loss: 0.4082\n",
            "Epoch 4/5\n",
            "\u001b[1m6/6\u001b[0m \u001b[32m━━━━━━━━━━━━━━━━━━━━\u001b[0m\u001b[37m\u001b[0m \u001b[1m11s\u001b[0m 212ms/step - accuracy: 0.8764 - loss: 0.3081 - val_accuracy: 0.9130 - val_loss: 0.2468\n",
            "Epoch 5/5\n",
            "\u001b[1m6/6\u001b[0m \u001b[32m━━━━━━━━━━━━━━━━━━━━\u001b[0m\u001b[37m\u001b[0m \u001b[1m6s\u001b[0m 213ms/step - accuracy: 0.8558 - loss: 0.2955 - val_accuracy: 0.9348 - val_loss: 0.2155\n"
          ]
        },
        {
          "output_type": "execute_result",
          "data": {
            "text/plain": [
              "<keras.src.callbacks.history.History at 0x7c28a6c4d0f0>"
            ]
          },
          "metadata": {},
          "execution_count": 21
        }
      ]
    },
    {
      "cell_type": "markdown",
      "source": [
        "**Testing the models accuracy using images manually**"
      ],
      "metadata": {
        "id": "s-AnRHKQhZlq"
      }
    },
    {
      "cell_type": "code",
      "source": [
        "# importing the necessary libraries\n",
        "import keras.preprocessing.image as image\n",
        "import numpy as np"
      ],
      "metadata": {
        "id": "thbkZeFu4-Pu"
      },
      "execution_count": 22,
      "outputs": []
    },
    {
      "cell_type": "code",
      "source": [
        "# Setting the dimension of the image according to the model requirements\n",
        "covid_img=image.load_img('/content/covid_dataset/test/covid/COVID-00003b.jpg',target_size=(64,64))\n",
        "normal_img=image.load_img('/content/covid_dataset/test/normal/0105.jpeg',target_size=(64,64))"
      ],
      "metadata": {
        "id": "270p5Sm1h1MC"
      },
      "execution_count": 30,
      "outputs": []
    },
    {
      "cell_type": "code",
      "source": [
        "covid_img"
      ],
      "metadata": {
        "colab": {
          "base_uri": "https://localhost:8080/",
          "height": 81
        },
        "id": "DQkZKTtyap04",
        "outputId": "ae316c56-0fa2-4eac-b04e-fcca9639d598"
      },
      "execution_count": 31,
      "outputs": [
        {
          "output_type": "execute_result",
          "data": {
            "text/plain": [
              "<PIL.Image.Image image mode=RGB size=64x64>"
            ],
            "image/png": "[encoded data removed]",
            "image/jpeg": "[encoded data removed]"
          },
          "metadata": {},
          "execution_count": 31
        }
      ]
    },
    {
      "cell_type": "code",
      "source": [
        "normal_img"
      ],
      "metadata": {
        "colab": {
          "base_uri": "https://localhost:8080/",
          "height": 81
        },
        "id": "_sGX7Lalas4-",
        "outputId": "13270c9f-c94d-4421-f5d2-f565cafb173a"
      },
      "execution_count": 32,
      "outputs": [
        {
          "output_type": "execute_result",
          "data": {
            "text/plain": [
              "<PIL.Image.Image image mode=RGB size=64x64>"
            ],
            "image/png": "[encoded data removed]",
            "image/jpeg": "[encoded data removed]"
          },
          "metadata": {},
          "execution_count": 32
        }
      ]
    },
    {
      "cell_type": "code",
      "source": [
        "# Normalizing the pixels and expanding the size of the image\n",
        "covid_img=image.img_to_array(covid_img)\n",
        "normal_img=image.img_to_array(normal_img)\n",
        "covid_img=covid_img/255.\n",
        "normal_img=normal_img/255.\n",
        "covid_img=np.expand_dims(covid_img,axis=0)\n",
        "normal_img=np.expand_dims(normal_img,axis=0)"
      ],
      "metadata": {
        "id": "z84Fj9l3iAO4"
      },
      "execution_count": 33,
      "outputs": []
    },
    {
      "cell_type": "code",
      "source": [
        "# Defining the classes with the respective name\n",
        "res={0: \"Covid\",\n",
        "     1: \"Normal\"}"
      ],
      "metadata": {
        "id": "SE3JWFdcFjdg"
      },
      "execution_count": 34,
      "outputs": []
    },
    {
      "cell_type": "code",
      "source": [
        "print(res[round(model.predict(covid_img)[0][0])])"
      ],
      "metadata": {
        "colab": {
          "base_uri": "https://localhost:8080/"
        },
        "id": "55bLx_KYE5pX",
        "outputId": "21a9d13b-8844-463e-89b9-3c787d41774f"
      },
      "execution_count": 36,
      "outputs": [
        {
          "output_type": "stream",
          "name": "stdout",
          "text": [
            "\u001b[1m1/1\u001b[0m \u001b[32m━━━━━━━━━━━━━━━━━━━━\u001b[0m\u001b[37m\u001b[0m \u001b[1m0s\u001b[0m 21ms/step\n",
            "Covid\n"
          ]
        }
      ]
    },
    {
      "cell_type": "code",
      "source": [
        "print(res[round(model.predict(normal_img)[0][0])])"
      ],
      "metadata": {
        "colab": {
          "base_uri": "https://localhost:8080/"
        },
        "id": "0JTjceApGXO1",
        "outputId": "9db64083-8bae-42a3-8d38-4b5f5269a622"
      },
      "execution_count": 37,
      "outputs": [
        {
          "output_type": "stream",
          "name": "stdout",
          "text": [
            "\u001b[1m1/1\u001b[0m \u001b[32m━━━━━━━━━━━━━━━━━━━━\u001b[0m\u001b[37m\u001b[0m \u001b[1m0s\u001b[0m 22ms/step\n",
            "Normal\n"
          ]
        }
      ]
    },
    {
      "cell_type": "markdown",
      "source": [
        "After running the model through all 5 epochs we had set, the accuracy comes around 85.58% and the loss is around 29.55% and when the model is compared with the testing data the accuracy comes around 93.48% and the loss comes around 21.55%. We had further tried to take two randon images from the dataset and fed the model for prediction and the model has rightfully predicted the outcome."
      ],
      "metadata": {
        "id": "W0Kx70XmPBfu"
      }
    }
  ]
}